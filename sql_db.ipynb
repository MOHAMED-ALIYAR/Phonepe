{
 "cells": [
  {
   "cell_type": "code",
   "execution_count": 18,
   "id": "6e95523c",
   "metadata": {},
   "outputs": [],
   "source": [
    "# connect to sql\n",
    "import mysql.connector\n",
    "\n",
    "mydb=mysql.connector.connect(\n",
    "    user='root',\n",
    "    host='localhost',\n",
    "    password='123456',auth_plugin='mysql_native_password')\n",
    "\n",
    "mycursor=mydb.cursor()\n",
    "mycursor.execute('CREATE DATABASE Phonepe')"
   ]
  },
  {
   "cell_type": "code",
   "execution_count": 19,
   "id": "71e0b805",
   "metadata": {},
   "outputs": [],
   "source": [
    "# insert a data in to db\n",
    "import pandas as pd\n",
    "import pymysql\n",
    "import sqlalchemy\n",
    "from sqlalchemy import text\n",
    "\n",
    "user = 'root'\n",
    "password = '123456'\n",
    "host = 'localhost'\n",
    "port = 3306\n",
    "database = 'Phonepe'\n",
    "connection = sqlalchemy.create_engine(\"mysql+pymysql://{0}:{1}@{2}:{3}/{4}\".format(\n",
    "            user, password, host, port, database\n",
    "        ))"
   ]
  },
  {
   "cell_type": "code",
   "execution_count": 20,
   "id": "32492ae1",
   "metadata": {},
   "outputs": [
    {
     "data": {
      "text/plain": [
       "3594"
      ]
     },
     "execution_count": 20,
     "metadata": {},
     "output_type": "execute_result"
    }
   ],
   "source": [
    "sql1 = text('CREATE TABLE Agg_Transaction_Table (MyIndex INT NOT NULL AUTO_INCREMENT,State INT,Year INT,Quater INT,Payment_Mode VARCHAR(50),Total_Transactions_count BIGINT,Total_Amount BIGINT,PRIMARY KEY (MyIndex))')\n",
    "connection.execute(sql1)\n",
    "df = pd.read_csv(r\"C:\\Users\\admin\\Capstone\\Phonepe\\CSV\\Agg_trans.csv\")\n",
    "df.to_sql('agg_transaction_table',con=connection, if_exists= \"replace\",index=False)"
   ]
  },
  {
   "cell_type": "code",
   "execution_count": 21,
   "id": "6fddc02f",
   "metadata": {},
   "outputs": [
    {
     "data": {
      "text/plain": [
       "6732"
      ]
     },
     "execution_count": 21,
     "metadata": {},
     "output_type": "execute_result"
    }
   ],
   "source": [
    "sql2 = text('CREATE TABLE agg_userbydevice_table (MyIndex INT NOT NULL AUTO_INCREMENT,State INT,Year INT,Quater INT,Brand VARCHAR(50),Brand_count BIGINT,Brand_percentage BIGINT,PRIMARY KEY (MyIndex))')\n",
    "connection.execute(sql2)\n",
    "df = pd.read_csv(r\"C:\\Users\\admin\\Capstone\\Phonepe\\CSV\\user_by_device.csv\")\n",
    "df.to_sql('agg_userbydevice_table',con=connection, if_exists= \"replace\",index=False)"
   ]
  },
  {
   "cell_type": "code",
   "execution_count": 22,
   "id": "426fa77c",
   "metadata": {},
   "outputs": [
    {
     "data": {
      "text/plain": [
       "14636"
      ]
     },
     "execution_count": 22,
     "metadata": {},
     "output_type": "execute_result"
    }
   ],
   "source": [
    "sql3 = text('CREATE TABLE district_map_transaction_table (MyIndex INT NOT NULL AUTO_INCREMENT,State INT,Year INT,Quater INT,District VARCHAR(50),Transaction_count BIGINT,Transaction_amount BIGINT,PRIMARY KEY (MyIndex))')\n",
    "connection.execute(sql3)\n",
    "df = pd.read_csv(r\"C:\\Users\\admin\\Capstone\\Phonepe\\CSV\\district_map_transaction.csv\")\n",
    "df.to_sql('district_map_transaction_table',con=connection, if_exists= \"replace\",index=False)"
   ]
  },
  {
   "cell_type": "code",
   "execution_count": 23,
   "id": "99474e2e",
   "metadata": {},
   "outputs": [
    {
     "data": {
      "text/plain": [
       "14640"
      ]
     },
     "execution_count": 23,
     "metadata": {},
     "output_type": "execute_result"
    }
   ],
   "source": [
    "sql4 = text('CREATE TABLE district_map_registering_table (MyIndex INT NOT NULL AUTO_INCREMENT,State INT,Year INT,Quater INT,District VARCHAR(50),Registered_user BIGINT,App_opening BIGINT,PRIMARY KEY (MyIndex))')\n",
    "connection.execute(sql4)\n",
    "df = pd.read_csv(r\"C:\\Users\\admin\\Capstone\\Phonepe\\CSV\\district_registering_map.csv\")\n",
    "df.to_sql('district_map_registering_table',con=connection, if_exists= \"replace\",index=False)"
   ]
  },
  {
   "cell_type": "code",
   "execution_count": 24,
   "id": "bb32283d",
   "metadata": {},
   "outputs": [
    {
     "data": {
      "text/plain": [
       "36"
      ]
     },
     "execution_count": 24,
     "metadata": {},
     "output_type": "execute_result"
    }
   ],
   "source": [
    "sql5 = text('CREATE TABLE longitude_latitude_state_table (MyIndex INT NOT NULL AUTO_INCREMENT,Code VARCHAR(50),Latitude BIGINT, Longitude BIGINT, State VARCHAR(50),PRIMARY KEY (MyIndex))')\n",
    "connection.execute(sql5)\n",
    "df = pd.read_csv(r\"C:\\Users\\admin\\Capstone\\Phonepe\\CSV\\Longitude_Latitude_State_Table.csv\")\n",
    "df.to_sql('longitude_latitude_state_table',con=connection, if_exists= \"replace\",index=False)"
   ]
  },
  {
   "cell_type": "code",
   "execution_count": 25,
   "id": "809b8265",
   "metadata": {},
   "outputs": [
    {
     "data": {
      "text/plain": [
       "732"
      ]
     },
     "execution_count": 25,
     "metadata": {},
     "output_type": "execute_result"
    }
   ],
   "source": [
    "sql6 = text('CREATE TABLE districts_longitude_latitude_table(MyIndex INT NOT NULL AUTO_INCREMENT,State VARCHAR(50),District VARCHAR(50),Latitude BIGINT, Longitude BIGINT,PRIMARY KEY (MyIndex))')\n",
    "connection.execute(sql6)\n",
    "df = pd.read_csv(r\"C:\\Users\\admin\\Capstone\\Phonepe\\CSV\\Data_Map_Districts_Longitude_Latitude.csv\")\n",
    "df.to_sql('districts_longitude_latitude_table',con=connection, if_exists= \"replace\",index=False)"
   ]
  },
  {
   "cell_type": "code",
   "execution_count": 26,
   "id": "9e44882b",
   "metadata": {},
   "outputs": [
    {
     "data": {
      "text/plain": [
       "5920"
      ]
     },
     "execution_count": 26,
     "metadata": {},
     "output_type": "execute_result"
    }
   ],
   "source": [
    "sql7 = text('CREATE TABLE top_tran_table(MyIndex INT NOT NULL AUTO_INCREMENT,State VARCHAR(50),Year INT,Quater INT,District VARCHAR(50),Transactiom_count BIGINT, Trsnsaction_amount BIGINT,PRIMARY KEY (MyIndex))')\n",
    "connection.execute(sql7)\n",
    "df = pd.read_csv(r\"C:\\Users\\admin\\Capstone\\Phonepe\\CSV\\top_tran.csv\")\n",
    "df.to_sql('top_tran_table',con=connection, if_exists= \"replace\",index=False)"
   ]
  },
  {
   "cell_type": "code",
   "execution_count": 28,
   "id": "3e9f8e53",
   "metadata": {},
   "outputs": [
    {
     "data": {
      "text/plain": [
       "5920"
      ]
     },
     "execution_count": 28,
     "metadata": {},
     "output_type": "execute_result"
    }
   ],
   "source": [
    "sql8 = text('CREATE TABLE top_user_table(MyIndex INT NOT NULL AUTO_INCREMENT,State VARCHAR(50),Year INT,Quater INT,District VARCHAR(50),Registered_user BIGINT,PRIMARY KEY (MyIndex))')\n",
    "connection.execute(sql8)\n",
    "df = pd.read_csv(r\"C:\\Users\\admin\\Capstone\\Phonepe\\CSV\\top_user.csv\")\n",
    "df.to_sql('top_user_table',con=connection, if_exists= \"replace\",index=False)"
   ]
  },
  {
   "cell_type": "code",
   "execution_count": null,
   "id": "80b1e786",
   "metadata": {},
   "outputs": [],
   "source": []
  }
 ],
 "metadata": {
  "kernelspec": {
   "display_name": "Python 3 (ipykernel)",
   "language": "python",
   "name": "python3"
  },
  "language_info": {
   "codemirror_mode": {
    "name": "ipython",
    "version": 3
   },
   "file_extension": ".py",
   "mimetype": "text/x-python",
   "name": "python",
   "nbconvert_exporter": "python",
   "pygments_lexer": "ipython3",
   "version": "3.9.13"
  }
 },
 "nbformat": 4,
 "nbformat_minor": 5
}
